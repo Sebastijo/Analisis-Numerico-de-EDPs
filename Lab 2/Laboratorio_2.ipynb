{
  "cells": [
    {
      "cell_type": "code",
      "execution_count": 4,
      "metadata": {
        "id": "QYXulp26ibig"
      },
      "outputs": [],
      "source": [
        "import numpy as np\n",
        "from scipy.sparse import diags, csr_matrix\n",
        "from scipy.sparse.linalg import spsolve, norm #, inv, eigsh\n",
        "\n",
        "import matplotlib.pyplot as plt\n",
        "from matplotlib.gridspec import GridSpec\n",
        "from matplotlib import rc\n",
        "\n",
        "from matplotlib import animation # animaciones\n",
        "from IPython.display import HTML # ver animaciones en notebook\n",
        "\n",
        "#from celluloid import Camera #pip install celluloid si es que no lo tienen."
      ]
    },
    {
      "cell_type": "markdown",
      "metadata": {
        "id": "RHL3MeFQibih"
      },
      "source": [
        "*Universidad de Chile*  \n",
        "*Facultad de Ciencias Físicas y Matemáticas*  \n",
        "*Departamento de Ingeniería Matemática*\n",
        "\n",
        "**MA5307-1 Análisis Numérico de EDP: Teoría y Laboratorio**  \n",
        "**Profesor:** Axel Osses  \n",
        "**Auxiliares:** Tomás Banduc"
      ]
    },
    {
      "cell_type": "markdown",
      "metadata": {
        "id": "TGwdL6LdCpmh"
      },
      "source": [
        "# Laboratorio 2\n",
        "\n",
        "**Objetivo General:** Aplicar el Método de Diferencias Finitas en varias variables sobre modelos de evolución de primer orden.\n",
        "\n",
        "**Objetivo Particular:** Se estudiará la ecuación de advección de primer orden y la ecuación de Burgers como modelo no-lineal en el estudio del tráfico vehicular."
      ]
    },
    {
      "cell_type": "markdown",
      "metadata": {
        "id": "FK8AuiNBDvrL"
      },
      "source": [
        "# Parte I"
      ]
    },
    {
      "cell_type": "markdown",
      "metadata": {
        "id": "j4t4-bX-ENep"
      },
      "source": [
        "## Ecuación de Advección\n",
        "\n",
        "Sea el problema de advección de primer orden sujeto a condición de borde periódica sobre el intervalo $(0,1)$:<br>\n",
        "<br>\n",
        "\\begin{align*}\n",
        "(A)\\quad\\left\\{\n",
        "\\begin{array}{rll}\n",
        "\\displaystyle{\\frac{\\partial u}{\\partial t}+\\alpha\\frac{\\partial u}{\\partial x}}  &\n",
        "=0 & \\qquad\\text{para }\\left(  t,x\\right)  \\in(0,+\\infty)\\times\\left(  0,1\\right) \\\\\n",
        "u(t,x+1)  &  =u(t,x) & \\qquad\\text{para }\\left(  t,x\\right)  \\in\\lbrack\n",
        "0,+\\infty)\\times\\left[0,1\\right] \\\\\n",
        "u\\left(  0,x\\right)   &  =u_{0}(x) & \\qquad\\text{para }x\\in\\left[0,1\\right]\n",
        "\\end{array}\n",
        "\\right.\n",
        "\\end{align*}\n",
        "\n",
        "con $\\alpha>0$y $u_0$ suficientemente regular."
      ]
    },
    {
      "cell_type": "markdown",
      "metadata": {
        "id": "zchZXcZ-FSq9"
      },
      "source": [
        "Existen varios esquemas numéricos basados en diferencias finitas para analizar la ecuación anterior. Dadas sus particularidades, elegir un método por sobre otro resulta difícil.\n",
        "\n",
        "Los esquemas de tipo Lax son frecuentemente utilizados para resolver este tipo de problemas, siendo los más simples los de Lax-Friedrichs y Lax-Wendroff, dados por:\n",
        "\n",
        "\\begin{align*}\n",
        "    &(LF)\\quad\\dfrac{2u_j^{n+1}-(u_{j+1}^n+u_{j-1}^n)}{2\\Delta t} +\\alpha\\cdot \\dfrac{u_{j+1}^n - u_{j-1}^n}{2\\Delta x} = 0\\\\\n",
        "    &(LW)\\quad \\dfrac{u_j^{n+1}-u_j^n}{\\Delta t}+\\alpha \\cdot \\dfrac{u_{j+1}^n-u_{j-1}^n}{2\\Delta x}+\\alpha^2 \\Delta t\\cdot\\dfrac{2u_j^n-(u_{j+1}^n+u_{j-1}^n)}{2\\Delta x^2} = 0\n",
        "\\end{align*}\n",
        "<br>\n",
        "donde $u_j^n:=u(x_j,t_n)$ es la aproximación de una función $u$ para un mallado espacial de paso $\\Delta x>0$ y una discretización temporal $\\Delta t>0$, con $x_j:=\\Delta x \\cdot j$ y $t_n:=\\Delta t\\cdot n$"
      ]
    },
    {
      "cell_type": "markdown",
      "metadata": {
        "id": "juBZCW6jibij"
      },
      "source": [
        "### P1\n",
        "\n",
        "> **a.** Programe una función `resolver_adveccion` que resuelva numéricamente esta ecuación hasta tiempo $T>0$ por cada uno de los esquemas numéricos presentados anteriormente. Las entradas del programa deben ser $\\alpha$, $\\Delta t$, $N_{T}$, $N$ y $u_{0}$, donde $N_{T}$ es un entero que satsiface $N_t\\Delta t = T$ y corresponde con una discretización del intervalo $[0,T]$ en $N_T+1$ puntos:<br>\n",
        "<br>\n",
        "\\begin{align*}\n",
        " I_T:=\\{0,\\Delta t,...,(N_T-1)\\Delta t,N_T\\Delta t \\}\\subseteq [0,T]\n",
        " \\end{align*}"
      ]
    },
    {
      "cell_type": "code",
      "execution_count": 4,
      "metadata": {
        "id": "NCZPgxYEibij"
      },
      "outputs": [
        {
          "name": "stderr",
          "output_type": "stream",
          "text": [
            "<>:2: SyntaxWarning: invalid escape sequence '\\p'\n",
            "<>:2: SyntaxWarning: invalid escape sequence '\\p'\n",
            "C:\\Users\\spinc\\AppData\\Local\\Temp\\ipykernel_2672\\1282801335.py:2: SyntaxWarning: invalid escape sequence '\\p'\n",
            "  \"\"\"\n"
          ]
        }
      ],
      "source": [
        "def resolver_adveccion(alpha, dt, NT, N, u0, esquema):\n",
        "    \"\"\"\n",
        "    Resuelve la ecuación de advección $\\partial_t u + \\alpha \\partial_x u = 0$\n",
        "    con condiciones periódicas, en el dominio (0,1) y un intervalo de tiempo [0,T].\n",
        "    -------\n",
        "    Input:\n",
        "    - alpha: float\n",
        "    - dt: float\n",
        "        Paso temporal para el que se resolvera la ecuación.\n",
        "    - NT: int\n",
        "        Cumple NT * dt = T.\n",
        "    - N: int\n",
        "        Cantidad de subintervalos en que se discretizará el dominio.\n",
        "    - u0: callable\n",
        "        Función con la condición inicial del problema.\n",
        "    - esquema: {'LW', 'LF'}\n",
        "        Esquema usado para resolver la ecuación.\n",
        "        - 'LW': Lax-Wendroff\n",
        "        - 'LF': Lax-Friedrich\n",
        "    -------\n",
        "    Output:\n",
        "    - x: numpy array, largo N+2\n",
        "        Discretización del dominio donde se calculó la solución.\n",
        "    - U: numpy array de (N+2)x(NT+1)\n",
        "        Solución, evaluada en la grilla en cada paso de tiempo. U[j,n] es la solución en x_j,\n",
        "        en el tiempo t = n*dt.\n",
        "    -------\n",
        "    \"\"\"\n",
        "\n",
        "    return x, U"
      ]
    },
    {
      "cell_type": "markdown",
      "metadata": {
        "id": "3jKms2DFibij"
      },
      "source": [
        "> **b.** Considere $\\Delta x=0.01$, $\\alpha=1$, $\\Delta t = \\frac{\\lambda}{\\alpha}\\Delta x$, $T=2$ y la condición inicial $u_{0}\\left(  x\\right)  =\\sin\\left(  2\\pi x\\right)  $. Calcule la solución numérica para $\\lambda\\in\\left\\{  0.8,0.4,0.1\\right\\}  $ y, para cada valor de $\\lambda$, grafique los resultados de cada método junto con la solución exacta.<br>\n",
        "<br> **Indicación**: Discuta los resultados en función de $\\lambda$ y del tipo de\n",
        "ecuación equivalente asociada a cada esquema. <br>\n",
        "<br>**Indicación:** Cree una animación para observar la evolución de sus soluciones. Puede serle útil Investigar el método ```FuncAnimation``` de ```matplotlib```.\n",
        "\n"
      ]
    },
    {
      "cell_type": "code",
      "execution_count": 5,
      "metadata": {
        "id": "2SWPO8WpPept"
      },
      "outputs": [],
      "source": [
        "def animar_soluciones(x, ULF, ULW, u):\n",
        "    \"\"\"\n",
        "    Función para graficar y animar las soluciones de cada método.\n",
        "    Utiliza la función FuncAnimation de matplotlib.\n",
        "    --------\n",
        "    Input:\n",
        "    - x: array\n",
        "        Discretización de [0,1].\n",
        "    - ULF, ULF: array\n",
        "        Soluciones obtenidas con `resolver_adveccion` con los métodos LF y LW resp.\n",
        "    - u: callable\n",
        "        Función que entrega la solución real de la ecuación.\n",
        "    --------\n",
        "    Output:\n",
        "    - ani: Objeto Animation de matplotlib.\n",
        "        Puede utilizar el método HTML(ani.to_html5_video()) para ver en jupyter.\n",
        "    --------\n",
        "    \"\"\"\n",
        "\n",
        "    # Crea figura\n",
        "    fig, ax = plt.subplots()\n",
        "\n",
        "    # Funcion para animar\n",
        "    def animate(i):\n",
        "      pass\n",
        "\n",
        "    # Animación\n",
        "    animation = matplotlib.animation.FuncAnimation(fig, animate, frames = ... , interval = ... , repeat = True)\n",
        "    HTML(animation.to_html5_video())"
      ]
    },
    {
      "cell_type": "markdown",
      "metadata": {
        "id": "glDaIXR5ibik"
      },
      "source": [
        "> **c.** Repita lo anterior, considerando ahora la condición inicial: <br>\n",
        "<br>\n",
        "\\begin{align*}\n",
        "u_{0}\\left(  x\\right)  =\\left\\{\n",
        "\\begin{array}\n",
        "[c]{cl}\n",
        "1/2 & \\text{si }x\\in\\left[  0.3,0.7\\right]  \\\\\n",
        "-1/2 & \\text{si }x\\in\\left[  0,1\\right]  \\setminus [  0.3,0.7]\n",
        "\\end{array}\n",
        "\\right.\n",
        "\\end{align*}<br>\n",
        "**Indicación:** Considere una extensión periódica de $u_{0}$, la cual puede ser útil para graficar la solución real."
      ]
    },
    {
      "cell_type": "markdown",
      "metadata": {
        "id": "NCktkaTaM10N"
      },
      "source": [
        "# Parte II"
      ]
    },
    {
      "cell_type": "markdown",
      "metadata": {
        "id": "UH-mPuaqM3at"
      },
      "source": [
        "## Ecuación de Burgers en Tráfico Vehicular\n",
        "\n",
        "Uno de los problemas más complicados en la ingeniería de transporte es modelar el funcionamiento de los semáforos. Un modelo continuo para el tráfico en una única pista, donde no se permite adelantar automóviles, está dado por la ecuación de Burgers.<br>\n",
        "<br>\n",
        "Suponga que la velocidad máxima en una vía está dada por $V$ y que la densidad de vehículos por unidad de longitud en ella es $D > 0$. Suponga que en cada punto y estado de tiempo la velocidad $v$ y la densidad vehicular $\\rho$ se relacionan mediante la ley:<br>\n",
        "<br>\n",
        "\\begin{align*}\n",
        "    v = V\\cdot \\left(1-\\dfrac{\\rho}{D}\\right)\n",
        "\\end{align*}\n",
        "Definiendo $u:=1-\\dfrac{2\\rho}{D}$, se tiene que $u$ satisface la ecuación de Burgers:\n",
        "\\begin{align*}\n",
        "\\begin{cases}\n",
        "    \\quad \\dfrac{\\partial u}{\\partial t}(t,x) + u(t,x)\\cdot\\dfrac{\\partial u}{\\partial x}(t,x)=0\\quad (t,x)\\in(0,+\\infty)\\times\\mathbb{R} \\\\\n",
        "    \\quad u(0,x)=u_0(x)\\quad x\\in\\mathbb{R}\n",
        "    \\end{cases}\n",
        "\\end{align*}<br>\n",
        "donde $-1\\leq u \\leq 1$.<br>\n",
        "<br>\n",
        "Cuando $u=-1$, los vehículos no se mueven, pues se alcanzó la densidad máxima posible, mientras que para $u=1$, la vía se encuentra totalmente vacía y el tránsito es a velocidad máxima.<br>\n",
        "<br>\n",
        "A diferencia de la ecuacion de advección, solo es posible obtener una forma implícita para la solución de este problema:<br>\n",
        "<br>\n",
        "\\begin{align*}\n",
        "    u(x,t)=u_0(x-u(x,t)\\cdot t)\n",
        "\\end{align*}\n",
        "<br>\n",
        "Sin embargo, es posible estimar numéricamente la solución de la ecuación de Burgers mediante métodos numéricos adecuados. Para ello, resulta sumamente útil trabajar con su forma conservativa:<br>\n",
        "<br>\n",
        "\\begin{align*}\n",
        "\\begin{cases}\n",
        "    \\quad \\dfrac{\\partial u}{\\partial t}(t,x) + \\dfrac{\\partial}{\\partial x}\\left[\\dfrac{u^2}{2}\\right](t,x)=0\\quad (t,x)\\in(0,+\\infty)\\times\\mathbb{R} \\\\\n",
        "    \\quad u(0,x)=u_0(x)\\quad x\\in\\mathbb{R}\n",
        "    \\end{cases}\n",
        "\\end{align*}<br>\n",
        "Los esquemas de Lax-Friedrichs y Lax-Wendroff se pueden ajustar a dicha formulación, pues se presentan para ecuaciones de la forma:<br>\n",
        "<br>\n",
        "\\begin{align*}\n",
        "\\dfrac{\\partial u}{\\partial t} + \\dfrac{\\partial}{\\partial x}\\left[f(u)\\right]=0\n",
        "\\end{align*}<br>\n"
      ]
    },
    {
      "cell_type": "markdown",
      "metadata": {
        "id": "YaOnxRGdNq1e"
      },
      "source": [
        "Definiendo $\\lambda :=\\dfrac{\\Delta t}{\\Delta x}$ y $f_j^n:=f(u_j^n)$, se tienen los esquemas de Lax-Friedrichs y Lax-Wendroff en su forma conservativa:<br>\n",
        "<br>\n",
        "* **Lax-Friedrichs conservativo:**\n",
        "  1. $\\quad F_j^n := \\dfrac{1}{2}\\cdot(f_{j-1}^n+f_j^n)-\\dfrac{1}{2\\lambda}\\cdot({u_j^n-u_{j-1}^n})$<br><br>\n",
        "  2. $\\quad u_j^{n+1}=u_j^n-\\lambda(F^n_{j+1}-F_j^n)$<br>\n",
        "  <br>\n",
        "* **Lax-Wendroff conservativo (esquema de Richtmyer)**:\n",
        "  1. $\\quad u_{j+1/2}^n:=\\dfrac{1}{2}\\cdot(u_{j+1}^n+u_j^n)-\\dfrac{\\lambda}{2}\\cdot(f_{j+1}^n-f_j^n)$<br> $\\quad u_{j-1/2}^n:=\\dfrac{1}{2}\\cdot(u_{j}^n+u_{j-1}^n)-\\dfrac{\\lambda}{2}\\cdot(f_{j}^n-f_{j-1}^n)$<br><br>\n",
        "  2. $\\quad u_{j}^{n+1}=u_j^n-\\lambda \\left(f\\left(u_{j+1/2}^n\\right)-f\\left(u_{j-1/2}^n\\right)\\right)$\n"
      ]
    },
    {
      "cell_type": "markdown",
      "metadata": {
        "id": "BzANiW-Bibik"
      },
      "source": [
        "A continuación, se simulará el efecto de un flujo de vehículos que entra a una calle a una velocidad mayor a la que tienen otros vehículos que circulan más adelante.\n",
        "\n",
        "### P1\n",
        "\n",
        "> Sea $f$ una función de clase $\\mathcal{C}^{1}$, $T>0$ y $a,b\\in\\mathbb{R}$, con $a<b$. Considere la ecuación:<br>\n",
        "<br>\n",
        "\\begin{align*}\n",
        "(B)\\quad\\left\\{\n",
        "\\begin{array}{rll}\n",
        "\\dfrac{\\partial u}{\\partial t}+\\dfrac{\\partial}{\\partial x}\\left[  f\\left(\n",
        "u\\right)  \\right]   &  =0 & \\qquad\\text{para }\\left(  t,x\\right)  \\in\n",
        "(0,T)\\times\\left(  a,b\\right)  \\\\\n",
        "u\\left(  t,a\\right)   &  =u_{a} & \\qquad\\text{para }t\\in\\left(  0,T\\right]  \\\\\n",
        "u\\left(  t,b\\right)   &  =u_{b} & \\qquad\\text{para }t\\in\\left(  0,T\\right]  \\\\\n",
        "u\\left(  0,x\\right)   &  =u_{0}(x) & \\qquad\\text{para }x\\in\\left[  a,b\\right]\n",
        "\\end{array}\n",
        "\\right.\n",
        "\\end{align*}<br>\n",
        "**a.** Implemente cada uno de los esquemas de Lax para resolver numéricamente esta ecuación mediante una función. Las entradas de cada programa deben ser la función $f$, $a$, $b$, las condiciones de frontera $u_{a}$ y $u_{b}$, $\\Delta t>0$, $N_{T}\\in\\mathbb{N}$ tal que $N_{T}\\Delta t=T$, $N\\in\\mathbb{N}$ como la cantidad de puntos interiores en su particion del intervalo $\\left[  a,b\\right]  $ y la condición inicial $u_{0}$ como un vector $\\boldsymbol{u}_{0}=\\left(  u_{j}^{0}\\right)  \\in\\mathbb{R}^{N+2}$."
      ]
    },
    {
      "cell_type": "code",
      "execution_count": 12,
      "metadata": {
        "id": "5zteQvqXibin"
      },
      "outputs": [],
      "source": [
        "def resolver_LF(f:callable , a:float, b:float, ua:float, ub:float, dt:float, N_T:int, N:int, u0:np.array, x:tuple, lam:float, J:np.array, Jb:np.array, Jf:np.array) -> np.array:\n",
        "\n",
        "    #Removos los extremos de los arrays de índices\n",
        "    J = J[1:-1]\n",
        "    Jb = Jb[1:-1]\n",
        "    Jf = Jf[1:-1]\n",
        "\n",
        "    # Definir la matriz U de manera inductiva. La coordenada temporal será la segunda coordenada.\n",
        "    U = np.zeros((N+2,N_T+2))\n",
        "    U[:,0] = u0\n",
        "    U[a,:] = ua\n",
        "    U[b,:] = ub\n",
        "    for n in range(1,N_T+1):\n",
        "        n-=1 # Enumeración de los puntos interiores\n",
        "\n",
        "        F_j1 = 1/2 * (f(U[J,n]) + f(U[Jf,n])) - 1/(2*lam) * (U[Jf,n] - U[J,n])\n",
        "        F_j  = 1/2 * (f(U[Jb,n]) + f(U[J,n])) - 1/(2*lam) * (U[J,n] - U[Jb,n])\n",
        "\n",
        "        F = {\"j\": F_j, \"j+1\": F_j1}\n",
        "\n",
        "        U[J,n+1] = U[J,n] - lam * (F[\"j+1\"] - F[\"j\"])\n",
        "    \n",
        "    return U\n",
        "\n",
        "\n",
        "def resolver_B(f:callable , a:float, b:float, ua:float, ub:float, dt:float, N_T:int, N:int, u0:np.array, esquema:str) -> tuple[tuple,np.array]:\n",
        "\n",
        "    assert esquema in {\"LW\", \"LF\"}, \"El esquema debe ser 'LW' o 'LF'.\"\n",
        "\n",
        "    dx = (b-a)/(N+1)\n",
        "    lam = dt/dx\n",
        "    x = (np.linspace(a, b, N+2), np.linspace(0, N_T*dt, N_T+2))\n",
        "    J = np.arange(0,N+2)\n",
        "    Jb = np.roll(J,1)\n",
        "    Jf = np.roll(J,-1)\n",
        "\n",
        "    if esquema == \"LF\":\n",
        "        U = resolver_LF(f, a, b, ua, ub, dt, N_T, N, u0, x, lam, J, Jb, Jf)\n",
        "    #else:\n",
        "        #x, U = resolver_LW(f, a, b, ua, ub, dt, N_T, N, u0, x, lam, J, Jb, Jf)\n",
        "\n",
        "    return x, U"
      ]
    },
    {
      "cell_type": "markdown",
      "metadata": {
        "id": "ncox76rSibin"
      },
      "source": [
        "\n",
        "> **b.** Considere el dominio $\\Omega=\\left[  0,1\\right]$, $D=1$, las condiciones de frontera $u\\left(  t,0\\right)  =0.5$ y $u\\left(  t,1\\right)  =0$ para todo $t>0$ y la condición inicial dada por:\n",
        "\n",
        "\n",
        "$$\n",
        "u_{0}\\left( x\\right) = \\begin{cases}\n",
        "0.5 & \\text{si }x<0.2\\\\\n",
        "0 & \\text{si }x\\geq0.2\\\\\n",
        "\\end{cases}\n",
        "$$\n",
        "\n",
        "Resuelva numéricamente la ecuación de Burgers para este caso usando los esquemas conservativos de Lax-Friedrichs y Lax-Wendroff con $T=2$, $\\Delta x\\in\\left\\{  0.01,0.005,0.002\\right\\}  $ y $\\Delta t=0.5\\Delta x$. Grafique la velocidad y densidad apropiadamente."
      ]
    },
    {
      "cell_type": "code",
      "execution_count": 7,
      "metadata": {
        "id": "o2H_9HrcciqY"
      },
      "outputs": [],
      "source": [
        "f = lambda x: x**2 / 2\n",
        "a = 0\n",
        "b = 1\n",
        "ua = 0.5\n",
        "ub = 0\n",
        "Dx = [0.01, 0.005, 0.002]\n",
        "Dt = 0.5 * Dx\n",
        "T = 2\n",
        "N_T_list = [int(T/dt) for dt in Dt]\n",
        "U0 = [np.vectorize(lambda x: 0.5 if x < 0.2 else 0)(np.linspace(a,b,N+2)) for N in N_T_list]\n",
        "N_list = [int((b-a)/dx) for dx in Dx]\n",
        "\n",
        "sol = {}\n",
        "for esquema in [\"LF\", \"LW\"]:\n",
        "   for dx, dt, N_T, N, u0 in zip(Dx, Dt, N_T_list, N_list, U0):\n",
        "        x, U = resolver_B(f, a, b, ua, ub, dt, N_T, N, u0, esquema)\n",
        "        sol[f\"N = {N}, N_T = {N_T}, esquema = {esquema}\"] = (x, U)\n",
        "\n",
        "def animar_soluciones_B(x, ULF, ULW):\n",
        "    \"\"\"\n",
        "    Función para graficar y animar las soluciones de cada método.\n",
        "    Utiliza la función FuncAnimation de matplotlib.\n",
        "    --------\n",
        "    Input:\n",
        "    - x: array\n",
        "        Discretización de [0,1]\n",
        "    - ULF, ULF: array\n",
        "        Soluciones obtenidas con `resolver_ej2` con los metodos LF y LW resp.\n",
        "    --------\n",
        "    Output:\n",
        "    - ani: Objeto Animation de matplotlib\n",
        "        Puede utilizar el método HTML(ani.to_html5_video()) para ver en jupyter\n",
        "    --------\n",
        "    \"\"\"\n",
        "    # Crea figura\n",
        "    fig, ax = plt.subplots()\n",
        "\n",
        "    # Funcion para animar\n",
        "    def animate(i):\n",
        "      pass"
      ]
    },
    {
      "cell_type": "markdown",
      "metadata": {
        "id": "Go0ZDus-ibin"
      },
      "source": [
        "Ahora, se modelará el efecto de un semáforo en rojo, el cual cambiará a verde en un par de segundos. Para ello, el tramo vial a estudiar corresponderá con el intervalo $\\left[ 0,2\\right] $.\n",
        "\n",
        "Si existe un semáforo en $x=1$, nuestro dominio de interés para modelar el efecto de la luz roja mediante la ecuación de Burgers será el intervalo $\\left[  0,1\\right]  $. Suponga que los autos entran por $x=0$ a una velocidad constante, la cual se representará por $u\\left(  t,0\\right)  =u^{\\ast}$. Por otra parte, los vehículos deben detenerse frente al semáforo, por lo que\n",
        "$u(t,1)=-1$.\n",
        "\n",
        "Además, se asume que todos los vehículos circulan a una velocidad inicial constante $u\\left(  0,x\\right)  =u^{\\ast}$ hasta que ven el semáforo en rojo. En el instante $t=T$ en que el semáforo cambia a verde, la densidad de vehículos es nula en $\\omega_{2}=\\left(  1,2\\right]  $. Luego, $u(T,x)=1$, para $x\\in\\omega_{2}$.\n",
        "\n",
        "### P2\n",
        "> Simule el efecto del semáforo que cambia de color rojo a verde.<br>\n",
        "<br>\n",
        "**a.** Resuelva numéricamente la ecuación de Burgers para $t\\in\\left[0,2\\right]  $ en el dominio $\\omega_{1}=\\left[  0,1\\right]  $, considerando la condición inicial:<br>\n",
        "<br>\n",
        "\\begin{align*}\n",
        "u\\left(  0,x\\right)  =\\left\\{\n",
        "\\begin{array}\n",
        "[c]{cl}%\n",
        "u^{\\ast} & \\text{si }0\\leq x<1\\\\\n",
        "-1 & \\text{si }x=1\n",
        "\\end{array}\n",
        "\\right.\n",
        "\\end{align*}<br>\n",
        "y las condiciones de frontera $u\\left(  t,0\\right)  =u^{\\ast}$ y $u(t,1)=-1$, con $u^{\\ast}=0.25$. Para ello, use el esquema de Lax-Friedrichs con $\\Delta x=0.02$ y $\\Delta t=0.1\\Delta x$, simulando un semáforo en rojo que dure $T=2$."
      ]
    },
    {
      "cell_type": "code",
      "execution_count": null,
      "metadata": {
        "id": "LVNWHZvgibio"
      },
      "outputs": [],
      "source": []
    },
    {
      "cell_type": "markdown",
      "metadata": {
        "id": "kFNgwXNiibio"
      },
      "source": [
        "> **b.** Resuelva numéricamente la ecuación de Burgers para $t\\in\\left[2,4\\right]  $ y $\\Omega=\\omega_{1}\\cup\\omega_{2}=\\left[  0,2\\right]  $, considerando las condiciones de frontera $u\\left(  t,0\\right)  =u^{\\ast}$ y $u(t,2)=1$, y la condición inicial dada por:<br>\n",
        "<br>\n",
        "\\begin{align*}\n",
        "u\\left(  2,x\\right)  =\\left\\{\n",
        "\\begin{array}\n",
        "[c]{cl}%\n",
        "u_{R}\\left(  2,x\\right)   & \\text{si }0\\leq x\\leq1\\\\\n",
        "1 & \\text{si }x>1\n",
        "\\end{array}\n",
        "\\right.\n",
        "\\end{align*}<br>\n",
        "donde $u_{R}\\left(  2,x\\right)  $ es la solución numérica resultante en el ejercicio anterior. Use los mismos parámetros y esquema que la parte previa y grafique su solución solo en el conjunto $\\omega_1$."
      ]
    },
    {
      "cell_type": "code",
      "execution_count": null,
      "metadata": {
        "id": "gM0cKqA5ibio"
      },
      "outputs": [],
      "source": []
    },
    {
      "cell_type": "markdown",
      "metadata": {
        "id": "W7Nk5t9Jibio"
      },
      "source": [
        "> **c.** Haga una interpretación de sus resultados, haciendo un análisis cualitativo de lo observado."
      ]
    },
    {
      "cell_type": "code",
      "execution_count": null,
      "metadata": {
        "id": "nfl6CceYSJUV"
      },
      "outputs": [],
      "source": []
    }
  ],
  "metadata": {
    "colab": {
      "provenance": []
    },
    "kernelspec": {
      "display_name": "Python 3",
      "language": "python",
      "name": "python3"
    },
    "language_info": {
      "codemirror_mode": {
        "name": "ipython",
        "version": 3
      },
      "file_extension": ".py",
      "mimetype": "text/x-python",
      "name": "python",
      "nbconvert_exporter": "python",
      "pygments_lexer": "ipython3",
      "version": "3.12.2"
    }
  },
  "nbformat": 4,
  "nbformat_minor": 0
}
