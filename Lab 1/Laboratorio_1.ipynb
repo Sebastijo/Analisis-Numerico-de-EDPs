{
  "cells": [
    {
      "cell_type": "code",
      "execution_count": 4,
      "metadata": {
        "id": "CuE5rnDIhFOC"
      },
      "outputs": [],
      "source": [
        "import numpy as np\n",
        "from scipy.sparse import diags, kron, csr_matrix, csc_matrix\n",
        "from scipy.sparse.linalg import spsolve, norm, inv, eigsh\n",
        "import matplotlib.pyplot as plt\n",
        "from matplotlib import rc\n",
        "# rc('text', usetex=True) # para usar latex en matplotlib"
      ]
    },
    {
      "cell_type": "markdown",
      "metadata": {
        "id": "-KC0AwR_hFOG"
      },
      "source": [
        "*Universidad de Chile*  \n",
        "*Facultad de Ciencias Físicas y Matemáticas*  \n",
        "*Departamento de Ingeniería Matemática*\n",
        "\n",
        "**MA5307-1 Análisis Numérico de EDP: Teoría y Laboratorio**  \n",
        "**Profesor:** Axel Osses  \n",
        "**Auxiliares:** Tomás Banduc"
      ]
    },
    {
      "cell_type": "markdown",
      "metadata": {
        "id": "Q8r3tTDAhFOL"
      },
      "source": [
        "# Laboratorio 1\n",
        "\n",
        "**Objetivo General:** A través de esta sesión práctica, se busca que el estudiante aprenda a resolver problemas elípticos de EDP en dos-dimensiones aplicando el Método de Diferencias Finitas.\n",
        "\n",
        "**Objetivo Particular:** Se resolverá la ecuación de Poisson en un cuadrado unitario. Además se estudiará la aproximación de su solución para condiciones de borde en dominios con curvatura, como es el caso del rectángulo perforado."
      ]
    },
    {
      "cell_type": "markdown",
      "metadata": {
        "id": "jwM53r8zhFOM"
      },
      "source": [
        "# Parte I"
      ]
    },
    {
      "cell_type": "markdown",
      "metadata": {
        "id": "NuCGRMVLhFOM"
      },
      "source": [
        "\n",
        "## Ecuación de Poisson en Dominio Cuadrado\n",
        "\n",
        "Considere la ecuación del calor en estado estacionario sobre el cuadrado unitario:\n",
        "\n",
        "\n",
        "\\begin{align*}\n",
        "(P)\\quad\\left\\{\n",
        "\\begin{array}[c]{rll}\n",
        "-\\Delta u= & 0 & \\text{sobre }\\Omega=\\left(  0,1\\right)^{2}\\\\\n",
        "u(x,0)= & 0 & \\text{en }0\\leq x\\leq 1\\\\\n",
        "u(x,1)= & g(x) & \\text{en }0\\leq x\\leq 1\\\\\n",
        "u(0,y)= & 0 & \\text{en }0< y< 1\\\\\n",
        "u(1,y)= & 0 & \\text{en }0< y <1\n",
        "\\end{array}\n",
        "\\right.\n",
        "\\end{align*}\n",
        "\n",
        "donde $g\\in\\mathcal{C}^1([0,1])$ cumple que $g(0)=g(1)=0$.\n",
        "\n",
        "Sea $N\\in\\mathbb{N}$ y $\\Omega_h$ el mallado equiespaciado del cuadrado unitario $\\Omega$:\n",
        "\n",
        "\\begin{align*}\n",
        "\\Omega_{h}:=\\left\\{  \\left(  x_{j},y_{k}\\right)  \\mid j,k\\in\\left\\{\n",
        "0,1,\\ldots,N+1\\right\\}  \\right\\}, \\quad x_j:=j\\cdot h, \\quad y_k:=k\\cdot h\n",
        "\\end{align*}\n",
        "\n",
        "\n",
        "Para aproximar el operador Laplaciano del problema de Poisson, se define el *Laplaciano Direcretizado* por 5 puntos como:\n",
        "\n",
        "\\begin{align*}\n",
        "(\\Delta_{h}U)_{j,k}=\\dfrac{1}{h^{2}}\\left(U_{j,k-1}+U_{j-1,k}-4U_{j,k}\n",
        "+U_{j+1,k}+U_{j,k+1}\n",
        "\\right)\n",
        "\\end{align*}\n",
        "\n",
        "\n",
        "Buscamos una solución $(u_{j,k})_{j,k\\in\\{0\\,...,N+1\\}}$ que cumpla la versión discretizada de $(P)$ inducida por el laplaciano anterior, de modo que $u_{j,k}\\simeq u(x_j,y_k)$ para la solución única $u$ de $(P)$.\n",
        "\n",
        "\n",
        "Tomando $g(x) = \\sin(\\pi x)$ se puede demostrar que la solución de esta ecuación está dada por:\n",
        "\n",
        "$$u\\left(  x,y\\right)  =\\dfrac{1}{\\sinh\\left(  \\pi\\right)}\\cdot\\sin\\left( \\pi x\\right)   \\sinh\\left( \\pi y\\right) $$"
      ]
    },
    {
      "cell_type": "markdown",
      "metadata": {
        "id": "ac62agUohFON"
      },
      "source": [
        "### P1\n",
        "\n",
        "> **(a)** Escriba dos funciones que calculen $\\boldsymbol{A}_{h}$ y $\\boldsymbol{b}_{h}$ asociadas al problema lineal equivalente del problema discreto. Las entradas para estas funciones deben ser $N$ y $g$.<br>\n",
        "<br>\n",
        "**(b)** Cree una función `solve` que, utilizando estas funciones, y las funciones auxiliares que necesite, entregue la solución aproximada $u_h$ del problema $(P)$.<br>\n",
        "<br>\n",
        "**Hint:** Le puede ser útil revisar la documentación del comando `kron` (disponible a través de `scipy.sparse`)."
      ]
    },
    {
      "cell_type": "code",
      "execution_count": null,
      "metadata": {
        "id": "tIXbLqzHhFOO"
      },
      "outputs": [],
      "source": [
        "def Ah(N):\n",
        "\n",
        "    return ((1/h)**2)*(A)\n",
        "\n",
        "\n",
        "def bh(N,f,g):\n",
        "\n",
        "    return b\n",
        "\n",
        "def solve(N, f, g):\n",
        "    \"\"\" Resuelve el problema del laplaciano en 2D en (0,1)^2 con condiciones\n",
        "    Dirichlet en el borde, usando una grilla uniforme de N puntos interiores, con paso h = 1/(N+1) en x e y.\n",
        "    \"\"\"\n",
        "    return"
      ]
    },
    {
      "cell_type": "markdown",
      "metadata": {
        "id": "-qo4eI6GhFOO"
      },
      "source": [
        "### P2\n",
        "\n",
        "> Resuelva la ecuación para $N\\in\\{10, 20, 30, 40, 50, 60, 70, ..., 100\\}$, mostrando la evolución del error $L^2$ como función de $N$. Grafique la solución aproximada (en tres casos de su elección) y la solución analítica.<br> **Indicación**: Comente sus resultados."
      ]
    },
    {
      "cell_type": "code",
      "execution_count": null,
      "metadata": {
        "id": "pIibM8B3hFOO"
      },
      "outputs": [],
      "source": []
    },
    {
      "cell_type": "markdown",
      "metadata": {
        "id": "lZkUT2tzhFOP"
      },
      "source": [
        "Sean $p\\in\\left[  1,+\\infty\\right]  $ y $\\boldsymbol{A}\\in\\mathbb{R}^{N\\times N}$. Se define la norma inducida $p$ de $\\boldsymbol{A}$ como:\n",
        "\n",
        "\\begin{align*}\n",
        "\\left\\Vert \\boldsymbol{A}\\right\\Vert _{p}=\\sup\\limits_{\\boldsymbol{x\\in}\\mathbb{R}^{N}\\setminus\\left\\{  \\boldsymbol{0}\\right\\}  }\\dfrac{\\left\\Vert\\boldsymbol{Ax}\\right\\Vert _{p}}{\\left\\Vert \\boldsymbol{x}\\right\\Vert_{p}}\n",
        "\\end{align*}\n",
        "\n",
        "Si $\\boldsymbol{A}$ es invertible, se define el número de condición en norma inducida $p$ como:\n",
        "\n",
        "\\begin{align*}\\operatorname{cond}_{p}\\left(  \\boldsymbol{A}\\right)  =\\left\\Vert\n",
        "\\boldsymbol{A}\\right\\Vert _{p}\\left\\Vert \\boldsymbol{A}^{-1}\\right\\Vert _{p}\\end{align*}\n",
        "\n",
        "### P3\n",
        "> Estudie el condicionamiento en norma $2$ de la Matriz $A_h$.\n",
        "\n",
        "**Observación:** En el caso particular de $\\boldsymbol{A}_{h}$, dado que la matriz es simétrica, su número de condición en norma $2$ inducida puede calcularse mediante sus valores propios de mayor y menor magnitud:\n",
        "\n",
        "\\begin{align*}\n",
        "\\operatorname{cond}_{2}\\left(  \\boldsymbol{A}_{h}\\right)  =\\dfrac{\\lambda_{\\max,h}\\left(  \\boldsymbol{A}_{h}\\right)  }{\\lambda_{\\min,h}\\left(\\boldsymbol{A}_{h}\\right)}\n",
        "\\end{align*}\n",
        "\n",
        "donde $\\lambda_{\\max,h}\\left(  \\boldsymbol{A}_{h}\\right) :=\\max\\left\\{\\left\\vert \\lambda\\right\\vert \\mid\\lambda\\in\\sigma\\left(  \\boldsymbol{A}_{h}\\right)  \\right\\}  $ y $\\lambda_{\\min,h}\\left(  \\boldsymbol{A}_{h}\\right)\n",
        ":=\\min\\left\\{  \\left\\vert \\lambda\\right\\vert \\mid\\lambda\\in\\sigma\\left(\\boldsymbol{A}_{h}\\right)  \\right\\}  $."
      ]
    },
    {
      "cell_type": "code",
      "execution_count": null,
      "metadata": {
        "id": "6XOuygs8hFOP"
      },
      "outputs": [],
      "source": [
        "def cond_2_sparse(A):\n",
        "    \"\"\"\n",
        "    Calcula el numero de condicionamiento en norma inducida 2\n",
        "    para una matriz sparse simetrica A.\n",
        "    Se obtiene como el valor propio de mayor módulo dividido por el de menor módulo\n",
        "\n",
        "    Input:\n",
        "    - A matriz sparse simetrica\n",
        "\n",
        "    Documentacion de eigsh:\n",
        "    https://docs.scipy.org/doc/scipy-0.15.1/reference/generated/scipy.sparse.linalg.eigsh.html\n",
        "    \"\"\"\n",
        "\n",
        "\n",
        "\n",
        "    return cond"
      ]
    },
    {
      "cell_type": "markdown",
      "metadata": {
        "id": "PRs2fcS2hFOQ"
      },
      "source": [
        "# Parte II"
      ]
    },
    {
      "cell_type": "markdown",
      "metadata": {
        "id": "OGxyKeezhFOQ"
      },
      "source": [
        "## Ecuación de Poisson en Dominio Perforado"
      ]
    },
    {
      "cell_type": "markdown",
      "metadata": {
        "id": "OWnd_q5shFOQ"
      },
      "source": [
        "Para $\\Omega = (0, 1)^2\\backslash B ((0.5, 0.5), 0.3)$, considere el siguiente problema:\n",
        "\n",
        "\\begin{align*}\n",
        "\\left(  P \\right)  \\left\\{\n",
        "\\begin{array}\n",
        "[c]{rl}\n",
        "-\\Delta u(x,y)=&0,  & \\text{si }(x,y)\\text{ en }\\Omega \\\\\n",
        "u(x,y)=&g(x,y), & \\text{si} (x,y)\\text{ en }\\partial\\Omega\n",
        "\\end{array}\n",
        "\\right.\n",
        "\\end{align*}\n",
        "\n",
        "donde $g$ viene dada por:\n",
        "\n",
        "\\begin{align*}\n",
        "g\\left(  x,y\\right)  =\\left\\{\n",
        "\\begin{array}\n",
        "[c]{rl}\n",
        "2, &\\text{si }(x,y) \\in \\partial (0,1)^2 \\\\\n",
        "0, &\\text{si }(x,y) \\in \\partial B ((0.5, 0.5), 0.3)\n",
        "\\end{array}\n",
        "\\right.\n",
        "\\end{align*}\n",
        "\n",
        "\n",
        "\n",
        "\n"
      ]
    },
    {
      "cell_type": "markdown",
      "metadata": {
        "id": "unlZa5PjhFOQ"
      },
      "source": [
        "### P1\n",
        "\n",
        "> Programe una función que reciba un punto de la malla $(x_j , y_k)$ y entregue como resultado $1$ si es un punto interior al cual se le puede calcular $\\Delta u$ con la aproximación utilizada en la fórmula de $5$ puntos, y $0$ si no."
      ]
    },
    {
      "cell_type": "code",
      "execution_count": null,
      "metadata": {
        "id": "KTqGt23ChFOR"
      },
      "outputs": [],
      "source": []
    },
    {
      "cell_type": "markdown",
      "metadata": {
        "id": "1NE6yaIuhFOR"
      },
      "source": [
        "### P2\n",
        "\n",
        "> Asuma que la matriz del sistema es de la forma $A_h = A_{h,x} + A_{h,y}$, donde $A_{h,x}$ tiene los coeficientes adecuados\n",
        "para la aproximación de la derivada parcial según $x$, y $A_{h,y}$ los valores necesarios para estimar la derivada parcial en $y$. Encuentre la forma\n",
        "que deben tener $A_{h,x}$ y $A_{h,y}$ y elabore funciones que calculen dichas matrices. <br> <br>\n",
        "**Hint 1:** Se sugiere segmentar el problema de programación lo más posible: Puede usar las funciones auxiliares que estime convenientes.<br>\n",
        "**Hint 2:** Tenga en cuenta las fórmulas explícitas de los coeficientes $\\alpha,\\beta$ y $\\gamma$ de la interpolación del mallado vista para dominio perforado.\n"
      ]
    },
    {
      "cell_type": "code",
      "execution_count": null,
      "metadata": {
        "id": "FjUyLPp5hFOR"
      },
      "outputs": [],
      "source": [
        "def Ahx(N):\n",
        "\n",
        "    return Ax\n",
        "\n",
        "def Ahy(N):\n",
        "\n",
        "    return Ay"
      ]
    },
    {
      "cell_type": "markdown",
      "metadata": {
        "id": "cvWMgfbDhFOR"
      },
      "source": [
        "### P3\n",
        "> Escriba una función que calcule $b_h$ adaptado a este caso."
      ]
    },
    {
      "cell_type": "code",
      "execution_count": null,
      "metadata": {
        "id": "Z6p_niwghFOR"
      },
      "outputs": [],
      "source": [
        "def bh(N):\n",
        "\n",
        "\n",
        "    return b"
      ]
    },
    {
      "cell_type": "markdown",
      "metadata": {
        "id": "7nbgBo7yhFOR"
      },
      "source": [
        "### P4\n",
        ">Resuelva el sistema $A_h u_h = b_h$ asociado a la discretización del dominio perforado, grafique la solución aproximada para $N\\in\\{10, 20, 30, 40, 50\\}$ y muestre la evolución del error en norma $L^2$ asociado.\n",
        "<br> **Indicación:** Comente sus resultados."
      ]
    },
    {
      "cell_type": "code",
      "execution_count": null,
      "metadata": {
        "id": "dZUJgh5KMyQw"
      },
      "outputs": [],
      "source": [
        "def solve2(N):\n",
        "\n",
        "    return"
      ]
    },
    {
      "cell_type": "markdown",
      "metadata": {
        "id": "nNlFrur5hFOS"
      },
      "source": [
        "### P5\n",
        ">Muestre qué sucede con el condicionamiento de la matriz utilizando la fórmula de valores propios de la Parte I. ¿Es dicha fórmula válida en este caso? ¿Cómo adaptaría su código para $f\\neq 0$?"
      ]
    },
    {
      "cell_type": "code",
      "execution_count": null,
      "metadata": {
        "id": "8c0ieGBHhFOS"
      },
      "outputs": [],
      "source": []
    }
  ],
  "metadata": {
    "colab": {
      "provenance": []
    },
    "kernelspec": {
      "display_name": "Python 3",
      "language": "python",
      "name": "python3"
    },
    "language_info": {
      "codemirror_mode": {
        "name": "ipython",
        "version": 3
      },
      "file_extension": ".py",
      "mimetype": "text/x-python",
      "name": "python",
      "nbconvert_exporter": "python",
      "pygments_lexer": "ipython3",
      "version": "3.12.2"
    }
  },
  "nbformat": 4,
  "nbformat_minor": 0
}
